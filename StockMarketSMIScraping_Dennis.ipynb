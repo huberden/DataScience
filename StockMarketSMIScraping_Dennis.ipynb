{
  "nbformat": 4,
  "nbformat_minor": 0,
  "metadata": {
    "colab": {
      "name": "StockMarketSMIScraping.ipynb",
      "provenance": [],
      "authorship_tag": "ABX9TyN6ycN1ecp58OVCO00OqIro",
      "include_colab_link": true
    },
    "kernelspec": {
      "name": "python3",
      "display_name": "Python 3"
    },
    "language_info": {
      "name": "python"
    }
  },
  "cells": [
    {
      "cell_type": "markdown",
      "metadata": {
        "id": "view-in-github",
        "colab_type": "text"
      },
      "source": [
        "<a href=\"https://colab.research.google.com/github/huberden/DataScience/blob/main/StockMarketSMIScraping_Dennis.ipynb\" target=\"_parent\"><img src=\"https://colab.research.google.com/assets/colab-badge.svg\" alt=\"Open In Colab\"/></a>"
      ]
    },
    {
      "cell_type": "code",
      "execution_count": null,
      "metadata": {
        "id": "1iJwYrB2OX9y"
      },
      "outputs": [],
      "source": [
        "import requests\n",
        "from bs4 import BeautifulSoup"
      ]
    },
    {
      "cell_type": "code",
      "source": [
        "headers = {'User-Agent': 'Mozilla/5.0 (Macintosh; Intel Mac OS X 10_15_7) AppleWebKit/605.1.15 (KHTML, like Gecko) Version/15.4 Safari/605.1.15'}"
      ],
      "metadata": {
        "id": "QlP1UvwCREfV"
      },
      "execution_count": null,
      "outputs": []
    },
    {
      "cell_type": "code",
      "source": [
        "url = 'https://www.finanzen.ch/index/historisch/smi/1.1.2010_30.12.2019'"
      ],
      "metadata": {
        "id": "OzA1i_CeQssp"
      },
      "execution_count": null,
      "outputs": []
    },
    {
      "cell_type": "code",
      "source": [
        "r = requests.get(url)"
      ],
      "metadata": {
        "id": "-EOloZC9Qsu7"
      },
      "execution_count": null,
      "outputs": []
    },
    {
      "cell_type": "code",
      "source": [
        "print(r.status_code)"
      ],
      "metadata": {
        "colab": {
          "base_uri": "https://localhost:8080/"
        },
        "id": "LQdZ336YQsxh",
        "outputId": "156b9a23-f3a4-46de-acb1-9d7944d1b2e5"
      },
      "execution_count": null,
      "outputs": [
        {
          "output_type": "stream",
          "name": "stdout",
          "text": [
            "200\n"
          ]
        }
      ]
    },
    {
      "cell_type": "code",
      "source": [
        "soup = BeautifulSoup(r.text, 'html.parser')"
      ],
      "metadata": {
        "id": "YodQXvcIQsz4"
      },
      "execution_count": null,
      "outputs": []
    },
    {
      "cell_type": "code",
      "source": [
        "print(soup.title.text)"
      ],
      "metadata": {
        "colab": {
          "base_uri": "https://localhost:8080/"
        },
        "id": "J8e6lzBuSCjN",
        "outputId": "573e3874-03cf-4475-c330-aeb605a0000f"
      },
      "execution_count": null,
      "outputs": [
        {
          "output_type": "stream",
          "name": "stdout",
          "text": [
            "SMI Historisch | finanzen.ch\n"
          ]
        }
      ]
    },
    {
      "cell_type": "code",
      "source": [
        "historic_price = soup('div', class_=\"grid__col--12 grid--vertical-scrolling\")"
      ],
      "metadata": {
        "id": "0f_I8lbNSCl1"
      },
      "execution_count": null,
      "outputs": []
    },
    {
      "cell_type": "code",
      "source": [
        "print(historic_price)"
      ],
      "metadata": {
        "colab": {
          "base_uri": "https://localhost:8080/"
        },
        "id": "zExhABKiSCoH",
        "outputId": "92fca7db-b769-4e3f-e610-cfddf4808133"
      },
      "execution_count": null,
      "outputs": [
        {
          "output_type": "stream",
          "name": "stdout",
          "text": [
            "[<div class=\"grid__col--12 grid--vertical-scrolling\">\n",
            "<table class=\"table table--col-2-text-align-center table--col-2-background-color-fnb-green table--col-3-background-color-yellow-orange table--col-4-background-color-yellow-orange table--col-5-background-color-finnet-red\">\n",
            "<colgroup>\n",
            "<col class=\"width-20-percent\"/>\n",
            "<col class=\"width-15-percent\"/>\n",
            "<col class=\"width-15-percent\"/>\n",
            "<col class=\"width-15-percent\"/>\n",
            "<col class=\"width-15-percent\"/>\n",
            "</colgroup>\n",
            "<thead class=\"table__thead\">\n",
            "<tr class=\"table__tr\">\n",
            "<th class=\"table__th\">Mini Futures</th>\n",
            "<th class=\"table__th\" colspan=\"4\">Hebel</th>\n",
            "</tr>\n",
            "</thead>\n",
            "<tbody class=\"table__tbody\">\n",
            "<tr class=\"table__tr\">\n",
            "<td class=\"table__td\">Steigender SMI-Kurs</td>\n",
            "<td class=\"table__td leverage__item\">\n",
            "<a class=\"leverage__link\" href=\"http://g.finanzen.net/ubs-ch-pas-produkte-smi-long-hebel-5\" target=\"_blank\">&gt;5</a>\n",
            "</td>\n",
            "<td class=\"table__td leverage__item\">\n",
            "<a class=\"leverage__link\" href=\"http://g.finanzen.net/ubs-ch-pas-produkte-smi-long-hebel-10\" target=\"_blank\">&gt;10</a>\n",
            "</td>\n",
            "<td class=\"table__td leverage__item\">\n",
            "<a class=\"leverage__link\" href=\"http://g.finanzen.net/ubs-ch-pas-produkte-smi-long-hebel-15\" target=\"_blank\">&gt;15</a>\n",
            "</td>\n",
            "<td class=\"table__td leverage__item\">\n",
            "<a class=\"leverage__link\" href=\"http://g.finanzen.net/ubs-ch-pas-produkte-smi-long-hebel-20\" target=\"_blank\">&gt;20</a>\n",
            "</td>\n",
            "</tr>\n",
            "<tr class=\"table__tr\">\n",
            "<td class=\"table__td\">Fallender SMI-Kurs</td>\n",
            "<td class=\"table__td leverage__item\">\n",
            "<a class=\"leverage__link\" href=\"http://g.finanzen.net/ubs-ch-pas-produkte-smi-short-hebel-5\" target=\"_blank\">&gt;5</a>\n",
            "</td>\n",
            "<td class=\"table__td leverage__item\">\n",
            "<a class=\"leverage__link\" href=\"http://g.finanzen.net/ubs-ch-pas-produkte-smi-short-hebel-10\" target=\"_blank\">&gt;10</a>\n",
            "</td>\n",
            "<td class=\"table__td leverage__item\">\n",
            "<a class=\"leverage__link\" href=\"http://g.finanzen.net/ubs-ch-pas-produkte-smi-short-hebel-15\" target=\"_blank\">&gt;15</a>\n",
            "</td>\n",
            "<td class=\"table__td leverage__item\">\n",
            "<a class=\"leverage__link\" href=\"http://g.finanzen.net/ubs-ch-pas-produkte-smi-short-hebel-20\" target=\"_blank\">&gt;20</a>\n",
            "</td>\n",
            "</tr>\n",
            "</tbody>\n",
            "</table>\n",
            "</div>, <div class=\"grid__col--12 grid--vertical-scrolling\">\n",
            "<table class=\"table\">\n",
            "<colgroup>\n",
            "<col class=\"width-20-percent\"/>\n",
            "<col class=\"width-15-percent\"/>\n",
            "<col class=\"width-15-percent\"/>\n",
            "<col class=\"width-15-percent\"/>\n",
            "<col class=\"width-15-percent\"/>\n",
            "</colgroup>\n",
            "<thead class=\"table__thead\">\n",
            "<tr class=\"table__tr\">\n",
            "<th class=\"table__th vertical-alignment-middle\">Warrants</th>\n",
            "<th class=\"table__th\" colspan=\"4\">\n",
            "<div class=\"tab\">\n",
            "<ul class=\"tab__list\" id=\"MaturityMonths\">\n",
            "<li class=\"tab__item\" id=\"2022-06\">Juni 2022 Verfall</li>\n",
            "<li class=\"tab__item\" id=\"2022-09\">September 2022 Verfall</li>\n",
            "<li class=\"tab__item\" id=\"2022-12\">Dezember 2022 Verfall</li>\n",
            "</ul>\n",
            "</div>\n",
            "</th>\n",
            "</tr>\n",
            "</thead>\n",
            "<tbody class=\"table__tbody\">\n",
            "<tr class=\"table__tr\">\n",
            "<td class=\"table__td\">Call Strikes</td>\n",
            "<td class=\"table__td text-align-center\">\n",
            "<a data-href=\"http://g.finanzen.net/ubs-ch-pas-prod-smi-warrants-long?date={0}&amp;range1={1}&amp;range2={1}\" data-strike=\"12400\" href=\"http://g.finanzen.net/ubs-ch-pas-prod-smi-warrants-long?date=2022-06&amp;range1=12400&amp;range2=12400\" rel=\"noindex nofollow\" target=\"_blank\">\r\n",
            "                                        12’400\r\n",
            "                                    </a>\n",
            "</td>\n",
            "<td class=\"table__td text-align-center\">\n",
            "<a data-href=\"http://g.finanzen.net/ubs-ch-pas-prod-smi-warrants-long?date={0}&amp;range1={1}&amp;range2={1}\" data-strike=\"12600\" href=\"http://g.finanzen.net/ubs-ch-pas-prod-smi-warrants-long?date=2022-06&amp;range1=12600&amp;range2=12600\" rel=\"noindex nofollow\" target=\"_blank\">\r\n",
            "                                        12’600\r\n",
            "                                    </a>\n",
            "</td>\n",
            "<td class=\"table__td text-align-center\">\n",
            "<a data-href=\"http://g.finanzen.net/ubs-ch-pas-prod-smi-warrants-long?date={0}&amp;range1={1}&amp;range2={1}\" data-strike=\"12800\" href=\"http://g.finanzen.net/ubs-ch-pas-prod-smi-warrants-long?date=2022-06&amp;range1=12800&amp;range2=12800\" rel=\"noindex nofollow\" target=\"_blank\">\r\n",
            "                                        12’800\r\n",
            "                                    </a>\n",
            "</td>\n",
            "<td class=\"table__td text-align-center\">\n",
            "<a data-href=\"http://g.finanzen.net/ubs-ch-pas-prod-smi-warrants-long?date={0}&amp;range1={1}&amp;range2={1}\" data-strike=\"13000\" href=\"http://g.finanzen.net/ubs-ch-pas-prod-smi-warrants-long?date=2022-06&amp;range1=13000&amp;range2=13000\" rel=\"noindex nofollow\" target=\"_blank\">\r\n",
            "                                        13’000\r\n",
            "                                    </a>\n",
            "</td>\n",
            "</tr>\n",
            "<tr class=\"table__tr\">\n",
            "<td class=\"table__td\">Put Strikes</td>\n",
            "<td class=\"table__td text-align-center\">\n",
            "<a data-href=\"http://g.finanzen.net/ubs-ch-pas-prod-smi-warrants-short?date={0}&amp;range1={1}&amp;range2={1}\" data-strike=\"12200\" href=\"http://g.finanzen.net/ubs-ch-pas-prod-smi-warrants-short?date=2022-06&amp;range1=12200&amp;range2=12200\" rel=\"noindex nofollow\" target=\"_blank\">\r\n",
            "                                        12’200\r\n",
            "                                    </a>\n",
            "</td>\n",
            "<td class=\"table__td text-align-center\">\n",
            "<a data-href=\"http://g.finanzen.net/ubs-ch-pas-prod-smi-warrants-short?date={0}&amp;range1={1}&amp;range2={1}\" data-strike=\"12000\" href=\"http://g.finanzen.net/ubs-ch-pas-prod-smi-warrants-short?date=2022-06&amp;range1=12000&amp;range2=12000\" rel=\"noindex nofollow\" target=\"_blank\">\r\n",
            "                                        12’000\r\n",
            "                                    </a>\n",
            "</td>\n",
            "<td class=\"table__td text-align-center\">\n",
            "<a data-href=\"http://g.finanzen.net/ubs-ch-pas-prod-smi-warrants-short?date={0}&amp;range1={1}&amp;range2={1}\" data-strike=\"11800\" href=\"http://g.finanzen.net/ubs-ch-pas-prod-smi-warrants-short?date=2022-06&amp;range1=11800&amp;range2=11800\" rel=\"noindex nofollow\" target=\"_blank\">\r\n",
            "                                        11’800\r\n",
            "                                    </a>\n",
            "</td>\n",
            "<td class=\"table__td text-align-center\">\n",
            "<a data-href=\"http://g.finanzen.net/ubs-ch-pas-prod-smi-warrants-short?date={0}&amp;range1={1}&amp;range2={1}\" data-strike=\"11600\" href=\"http://g.finanzen.net/ubs-ch-pas-prod-smi-warrants-short?date=2022-06&amp;range1=11600&amp;range2=11600\" rel=\"noindex nofollow\" target=\"_blank\">\r\n",
            "                                        11’600\r\n",
            "                                    </a>\n",
            "</td>\n",
            "</tr>\n",
            "</tbody>\n",
            "</table>\n",
            "</div>]\n"
          ]
        }
      ]
    }
  ]
}